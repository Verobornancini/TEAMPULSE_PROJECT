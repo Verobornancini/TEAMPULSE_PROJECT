{
 "cells": [
  {
   "cell_type": "markdown",
   "metadata": {},
   "source": [
    "# <span style=\"color:blue\"> SLACK - BOT</span>\n",
    "## Análisis de emojis"
   ]
  },
  {
   "cell_type": "code",
   "execution_count": 2,
   "metadata": {},
   "outputs": [],
   "source": [
    "# Importamos librerías necesarias\n",
    "import pandas as pd\n",
    "import numpy as np\n",
    "import seaborn as sns\n",
    "import matplotlib.pyplot as plt\n",
    "import matplotlib.dates as mdates\n",
    "import json"
   ]
  },
  {
   "cell_type": "code",
   "execution_count": 3,
   "metadata": {},
   "outputs": [],
   "source": [
    "df = pd.read_csv('files/slack_historial_de_mensajes_filtrados.csv')"
   ]
  },
  {
   "cell_type": "code",
   "execution_count": 4,
   "metadata": {},
   "outputs": [
    {
     "data": {
      "text/plain": [
       "Index(['Unnamed: 0', 'index', 'Unnamed: 0.1', 'client_msg_id', 'type', 'text',\n",
       "       'ts', 'team', 'blocks', 'bot_id', 'bot_profile', 'files', 'upload',\n",
       "       'display_as_bot', 'thread_ts', 'reply_count', 'reply_users_count',\n",
       "       'latest_reply', 'reply_users', 'subscribed', 'reactions', 'subtype',\n",
       "       'inviter', 'edited', 'attachments', 'Channel_id', 'Channel_name',\n",
       "       'bot_link', 'purpose', 'user_hash', 'datetime', 'date', 'time', 'h',\n",
       "       'm', 's', 'translations'],\n",
       "      dtype='object')"
      ]
     },
     "execution_count": 4,
     "metadata": {},
     "output_type": "execute_result"
    }
   ],
   "source": [
    "df.columns"
   ]
  },
  {
   "cell_type": "code",
   "execution_count": 5,
   "metadata": {},
   "outputs": [
    {
     "data": {
      "text/plain": [
       "(378, 37)"
      ]
     },
     "execution_count": 5,
     "metadata": {},
     "output_type": "execute_result"
    }
   ],
   "source": [
    "df.shape"
   ]
  },
  {
   "cell_type": "code",
   "execution_count": 6,
   "metadata": {},
   "outputs": [],
   "source": [
    "df = df.dropna(subset=['reactions'])"
   ]
  },
  {
   "cell_type": "code",
   "execution_count": 7,
   "metadata": {},
   "outputs": [
    {
     "data": {
      "text/plain": [
       "21"
      ]
     },
     "execution_count": 7,
     "metadata": {},
     "output_type": "execute_result"
    }
   ],
   "source": [
    "df['reactions'].count()"
   ]
  },
  {
   "cell_type": "code",
   "execution_count": 8,
   "metadata": {},
   "outputs": [],
   "source": [
    "df.reset_index(inplace=True)"
   ]
  },
  {
   "cell_type": "code",
   "execution_count": 9,
   "metadata": {},
   "outputs": [],
   "source": [
    "df['index'] = df.index"
   ]
  },
  {
   "cell_type": "markdown",
   "metadata": {},
   "source": [
    "## Obtención de reacciones"
   ]
  },
  {
   "cell_type": "code",
   "execution_count": 18,
   "metadata": {},
   "outputs": [
    {
     "data": {
      "text/html": [
       "<div>\n",
       "<style scoped>\n",
       "    .dataframe tbody tr th:only-of-type {\n",
       "        vertical-align: middle;\n",
       "    }\n",
       "\n",
       "    .dataframe tbody tr th {\n",
       "        vertical-align: top;\n",
       "    }\n",
       "\n",
       "    .dataframe thead th {\n",
       "        text-align: right;\n",
       "    }\n",
       "</style>\n",
       "<table border=\"1\" class=\"dataframe\">\n",
       "  <thead>\n",
       "    <tr style=\"text-align: right;\">\n",
       "      <th></th>\n",
       "      <th>channel_name</th>\n",
       "      <th>message_date</th>\n",
       "      <th>name</th>\n",
       "      <th>counts</th>\n",
       "      <th>user_hash</th>\n",
       "    </tr>\n",
       "  </thead>\n",
       "  <tbody>\n",
       "  </tbody>\n",
       "</table>\n",
       "</div>"
      ],
      "text/plain": [
       "Empty DataFrame\n",
       "Columns: [channel_name, message_date, name, counts, user_hash]\n",
       "Index: []"
      ]
     },
     "execution_count": 18,
     "metadata": {},
     "output_type": "execute_result"
    }
   ],
   "source": [
    "df_reactions= pd.DataFrame({'channel_name':[],\n",
    "                            'message_date':[],\n",
    "                            'name': [], \n",
    "                            'counts': [],\n",
    "                           'user_hash':[]})\n",
    "df_reactions"
   ]
  },
  {
   "cell_type": "code",
   "execution_count": 21,
   "metadata": {},
   "outputs": [
    {
     "data": {
      "text/html": [
       "<div>\n",
       "<style scoped>\n",
       "    .dataframe tbody tr th:only-of-type {\n",
       "        vertical-align: middle;\n",
       "    }\n",
       "\n",
       "    .dataframe tbody tr th {\n",
       "        vertical-align: top;\n",
       "    }\n",
       "\n",
       "    .dataframe thead th {\n",
       "        text-align: right;\n",
       "    }\n",
       "</style>\n",
       "<table border=\"1\" class=\"dataframe\">\n",
       "  <thead>\n",
       "    <tr style=\"text-align: right;\">\n",
       "      <th></th>\n",
       "      <th>channel_name</th>\n",
       "      <th>message_date</th>\n",
       "      <th>name</th>\n",
       "      <th>counts</th>\n",
       "      <th>user_hash</th>\n",
       "    </tr>\n",
       "  </thead>\n",
       "  <tbody>\n",
       "    <tr>\n",
       "      <th>0</th>\n",
       "      <td>dailys</td>\n",
       "      <td>2020-10-15</td>\n",
       "      <td>smile</td>\n",
       "      <td>1.0</td>\n",
       "      <td>ee2b02f7f3ecf01dd408031780cb1521</td>\n",
       "    </tr>\n",
       "    <tr>\n",
       "      <th>1</th>\n",
       "      <td>dailys</td>\n",
       "      <td>2020-10-14</td>\n",
       "      <td>joy</td>\n",
       "      <td>1.0</td>\n",
       "      <td>dc71163e5963271a52952b547d9b3757</td>\n",
       "    </tr>\n",
       "    <tr>\n",
       "      <th>2</th>\n",
       "      <td>dailys</td>\n",
       "      <td>2020-10-14</td>\n",
       "      <td>+1</td>\n",
       "      <td>1.0</td>\n",
       "      <td>9de0eab41d06af99a9db556b51b6585d</td>\n",
       "    </tr>\n",
       "    <tr>\n",
       "      <th>3</th>\n",
       "      <td>dailys</td>\n",
       "      <td>2020-10-06</td>\n",
       "      <td>+1</td>\n",
       "      <td>1.0</td>\n",
       "      <td>ee2b02f7f3ecf01dd408031780cb1521</td>\n",
       "    </tr>\n",
       "    <tr>\n",
       "      <th>4</th>\n",
       "      <td>novedades</td>\n",
       "      <td>2020-10-27</td>\n",
       "      <td>+1</td>\n",
       "      <td>1.0</td>\n",
       "      <td>9de0eab41d06af99a9db556b51b6585d</td>\n",
       "    </tr>\n",
       "    <tr>\n",
       "      <th>5</th>\n",
       "      <td>novedades</td>\n",
       "      <td>2020-10-27</td>\n",
       "      <td>smile</td>\n",
       "      <td>1.0</td>\n",
       "      <td>ee2b02f7f3ecf01dd408031780cb1521</td>\n",
       "    </tr>\n",
       "    <tr>\n",
       "      <th>6</th>\n",
       "      <td>novedades</td>\n",
       "      <td>2020-10-19</td>\n",
       "      <td>+1</td>\n",
       "      <td>1.0</td>\n",
       "      <td>ee2b02f7f3ecf01dd408031780cb1521</td>\n",
       "    </tr>\n",
       "    <tr>\n",
       "      <th>7</th>\n",
       "      <td>novedades</td>\n",
       "      <td>2020-10-16</td>\n",
       "      <td>+1</td>\n",
       "      <td>1.0</td>\n",
       "      <td>557bc07852e5ca8d2568185fb02896db</td>\n",
       "    </tr>\n",
       "    <tr>\n",
       "      <th>8</th>\n",
       "      <td>test</td>\n",
       "      <td>2020-10-26</td>\n",
       "      <td>+1</td>\n",
       "      <td>2.0</td>\n",
       "      <td>dc71163e5963271a52952b547d9b3757</td>\n",
       "    </tr>\n",
       "    <tr>\n",
       "      <th>9</th>\n",
       "      <td>test</td>\n",
       "      <td>2020-10-21</td>\n",
       "      <td>+1</td>\n",
       "      <td>1.0</td>\n",
       "      <td>dc71163e5963271a52952b547d9b3757</td>\n",
       "    </tr>\n",
       "    <tr>\n",
       "      <th>10</th>\n",
       "      <td>test</td>\n",
       "      <td>2020-10-21</td>\n",
       "      <td>clap</td>\n",
       "      <td>1.0</td>\n",
       "      <td>dc71163e5963271a52952b547d9b3757</td>\n",
       "    </tr>\n",
       "    <tr>\n",
       "      <th>11</th>\n",
       "      <td>test</td>\n",
       "      <td>2020-10-21</td>\n",
       "      <td>tada</td>\n",
       "      <td>1.0</td>\n",
       "      <td>ee2b02f7f3ecf01dd408031780cb1521</td>\n",
       "    </tr>\n",
       "    <tr>\n",
       "      <th>12</th>\n",
       "      <td>test</td>\n",
       "      <td>2020-10-21</td>\n",
       "      <td>raised_hands</td>\n",
       "      <td>1.0</td>\n",
       "      <td>dc71163e5963271a52952b547d9b3757</td>\n",
       "    </tr>\n",
       "    <tr>\n",
       "      <th>13</th>\n",
       "      <td>test</td>\n",
       "      <td>2020-10-16</td>\n",
       "      <td>+1</td>\n",
       "      <td>1.0</td>\n",
       "      <td>dc71163e5963271a52952b547d9b3757</td>\n",
       "    </tr>\n",
       "    <tr>\n",
       "      <th>14</th>\n",
       "      <td>test</td>\n",
       "      <td>2020-10-09</td>\n",
       "      <td>smile</td>\n",
       "      <td>1.0</td>\n",
       "      <td>6d8a0758084d99aa5f56a3cf6908c62f</td>\n",
       "    </tr>\n",
       "    <tr>\n",
       "      <th>15</th>\n",
       "      <td>test</td>\n",
       "      <td>2020-10-05</td>\n",
       "      <td>+1</td>\n",
       "      <td>2.0</td>\n",
       "      <td>6d8a0758084d99aa5f56a3cf6908c62f</td>\n",
       "    </tr>\n",
       "    <tr>\n",
       "      <th>16</th>\n",
       "      <td>test</td>\n",
       "      <td>2020-10-05</td>\n",
       "      <td>heart</td>\n",
       "      <td>2.0</td>\n",
       "      <td>ee2b02f7f3ecf01dd408031780cb1521</td>\n",
       "    </tr>\n",
       "    <tr>\n",
       "      <th>17</th>\n",
       "      <td>test</td>\n",
       "      <td>2020-10-05</td>\n",
       "      <td>grinning</td>\n",
       "      <td>1.0</td>\n",
       "      <td>6d8a0758084d99aa5f56a3cf6908c62f</td>\n",
       "    </tr>\n",
       "    <tr>\n",
       "      <th>18</th>\n",
       "      <td>general</td>\n",
       "      <td>2020-09-30</td>\n",
       "      <td>+1</td>\n",
       "      <td>3.0</td>\n",
       "      <td>9de0eab41d06af99a9db556b51b6585d</td>\n",
       "    </tr>\n",
       "    <tr>\n",
       "      <th>19</th>\n",
       "      <td>general</td>\n",
       "      <td>2020-09-29</td>\n",
       "      <td>+1</td>\n",
       "      <td>1.0</td>\n",
       "      <td>ee2b02f7f3ecf01dd408031780cb1521</td>\n",
       "    </tr>\n",
       "    <tr>\n",
       "      <th>20</th>\n",
       "      <td>general</td>\n",
       "      <td>2020-09-29</td>\n",
       "      <td>+1</td>\n",
       "      <td>2.0</td>\n",
       "      <td>9de0eab41d06af99a9db556b51b6585d</td>\n",
       "    </tr>\n",
       "  </tbody>\n",
       "</table>\n",
       "</div>"
      ],
      "text/plain": [
       "   channel_name message_date          name  counts  \\\n",
       "0        dailys   2020-10-15         smile     1.0   \n",
       "1        dailys   2020-10-14           joy     1.0   \n",
       "2        dailys   2020-10-14            +1     1.0   \n",
       "3        dailys   2020-10-06            +1     1.0   \n",
       "4     novedades   2020-10-27            +1     1.0   \n",
       "5     novedades   2020-10-27         smile     1.0   \n",
       "6     novedades   2020-10-19            +1     1.0   \n",
       "7     novedades   2020-10-16            +1     1.0   \n",
       "8          test   2020-10-26            +1     2.0   \n",
       "9          test   2020-10-21            +1     1.0   \n",
       "10         test   2020-10-21          clap     1.0   \n",
       "11         test   2020-10-21          tada     1.0   \n",
       "12         test   2020-10-21  raised_hands     1.0   \n",
       "13         test   2020-10-16            +1     1.0   \n",
       "14         test   2020-10-09         smile     1.0   \n",
       "15         test   2020-10-05            +1     2.0   \n",
       "16         test   2020-10-05         heart     2.0   \n",
       "17         test   2020-10-05      grinning     1.0   \n",
       "18      general   2020-09-30            +1     3.0   \n",
       "19      general   2020-09-29            +1     1.0   \n",
       "20      general   2020-09-29            +1     2.0   \n",
       "\n",
       "                           user_hash  \n",
       "0   ee2b02f7f3ecf01dd408031780cb1521  \n",
       "1   dc71163e5963271a52952b547d9b3757  \n",
       "2   9de0eab41d06af99a9db556b51b6585d  \n",
       "3   ee2b02f7f3ecf01dd408031780cb1521  \n",
       "4   9de0eab41d06af99a9db556b51b6585d  \n",
       "5   ee2b02f7f3ecf01dd408031780cb1521  \n",
       "6   ee2b02f7f3ecf01dd408031780cb1521  \n",
       "7   557bc07852e5ca8d2568185fb02896db  \n",
       "8   dc71163e5963271a52952b547d9b3757  \n",
       "9   dc71163e5963271a52952b547d9b3757  \n",
       "10  dc71163e5963271a52952b547d9b3757  \n",
       "11  ee2b02f7f3ecf01dd408031780cb1521  \n",
       "12  dc71163e5963271a52952b547d9b3757  \n",
       "13  dc71163e5963271a52952b547d9b3757  \n",
       "14  6d8a0758084d99aa5f56a3cf6908c62f  \n",
       "15  6d8a0758084d99aa5f56a3cf6908c62f  \n",
       "16  ee2b02f7f3ecf01dd408031780cb1521  \n",
       "17  6d8a0758084d99aa5f56a3cf6908c62f  \n",
       "18  9de0eab41d06af99a9db556b51b6585d  \n",
       "19  ee2b02f7f3ecf01dd408031780cb1521  \n",
       "20  9de0eab41d06af99a9db556b51b6585d  "
      ]
     },
     "execution_count": 21,
     "metadata": {},
     "output_type": "execute_result"
    }
   ],
   "source": [
    "for i, message in df.iterrows():\n",
    "    # guardo el nombre del canal\n",
    "    channel_name = message['Channel_name']\n",
    "    message_date = message['date']\n",
    "    user_hash = message['user_hash']\n",
    "    \n",
    "    # paso las reacciones a formato lista en vez de string\n",
    "    reactions = message['reactions'].replace(\"'\", \"\\\"\")\n",
    "    reactions_list = json.loads(reactions)\n",
    "    \n",
    "    for reaction in reactions_list:\n",
    "        # guardo la reacción y el conteo\n",
    "        name= reaction['name']\n",
    "        counts= reaction['count']\n",
    "        df_reactions.loc[i]=[channel_name,message_date,name,counts, user_hash]\n",
    "        \n",
    "df_reactions"
   ]
  },
  {
   "cell_type": "code",
   "execution_count": 12,
   "metadata": {},
   "outputs": [],
   "source": [
    "df_reactions['message_date'] = pd.to_datetime(df_reactions['message_date'])"
   ]
  },
  {
   "cell_type": "code",
   "execution_count": 22,
   "metadata": {},
   "outputs": [
    {
     "data": {
      "text/plain": [
       "channel_name     object\n",
       "message_date     object\n",
       "name             object\n",
       "counts          float64\n",
       "user_hash        object\n",
       "dtype: object"
      ]
     },
     "execution_count": 22,
     "metadata": {},
     "output_type": "execute_result"
    }
   ],
   "source": [
    "df_reactions.dtypes"
   ]
  },
  {
   "cell_type": "markdown",
   "metadata": {},
   "source": [
    "## Análisis de reacciones\n",
    "### Conteos"
   ]
  },
  {
   "cell_type": "code",
   "execution_count": 23,
   "metadata": {},
   "outputs": [
    {
     "name": "stdout",
     "output_type": "stream",
     "text": [
      "CONTEO DE REACCIONES POR CANAL\n"
     ]
    },
    {
     "data": {
      "text/html": [
       "<div>\n",
       "<style scoped>\n",
       "    .dataframe tbody tr th:only-of-type {\n",
       "        vertical-align: middle;\n",
       "    }\n",
       "\n",
       "    .dataframe tbody tr th {\n",
       "        vertical-align: top;\n",
       "    }\n",
       "\n",
       "    .dataframe thead th {\n",
       "        text-align: right;\n",
       "    }\n",
       "</style>\n",
       "<table border=\"1\" class=\"dataframe\">\n",
       "  <thead>\n",
       "    <tr style=\"text-align: right;\">\n",
       "      <th>name</th>\n",
       "      <th>+1</th>\n",
       "      <th>clap</th>\n",
       "      <th>grinning</th>\n",
       "      <th>heart</th>\n",
       "      <th>joy</th>\n",
       "      <th>raised_hands</th>\n",
       "      <th>smile</th>\n",
       "      <th>tada</th>\n",
       "      <th>All</th>\n",
       "    </tr>\n",
       "    <tr>\n",
       "      <th>channel_name</th>\n",
       "      <th></th>\n",
       "      <th></th>\n",
       "      <th></th>\n",
       "      <th></th>\n",
       "      <th></th>\n",
       "      <th></th>\n",
       "      <th></th>\n",
       "      <th></th>\n",
       "      <th></th>\n",
       "    </tr>\n",
       "  </thead>\n",
       "  <tbody>\n",
       "    <tr>\n",
       "      <th>dailys</th>\n",
       "      <td>2</td>\n",
       "      <td>0</td>\n",
       "      <td>0</td>\n",
       "      <td>0</td>\n",
       "      <td>1</td>\n",
       "      <td>0</td>\n",
       "      <td>1</td>\n",
       "      <td>0</td>\n",
       "      <td>4</td>\n",
       "    </tr>\n",
       "    <tr>\n",
       "      <th>general</th>\n",
       "      <td>3</td>\n",
       "      <td>0</td>\n",
       "      <td>0</td>\n",
       "      <td>0</td>\n",
       "      <td>0</td>\n",
       "      <td>0</td>\n",
       "      <td>0</td>\n",
       "      <td>0</td>\n",
       "      <td>3</td>\n",
       "    </tr>\n",
       "    <tr>\n",
       "      <th>novedades</th>\n",
       "      <td>3</td>\n",
       "      <td>0</td>\n",
       "      <td>0</td>\n",
       "      <td>0</td>\n",
       "      <td>0</td>\n",
       "      <td>0</td>\n",
       "      <td>1</td>\n",
       "      <td>0</td>\n",
       "      <td>4</td>\n",
       "    </tr>\n",
       "    <tr>\n",
       "      <th>test</th>\n",
       "      <td>4</td>\n",
       "      <td>1</td>\n",
       "      <td>1</td>\n",
       "      <td>1</td>\n",
       "      <td>0</td>\n",
       "      <td>1</td>\n",
       "      <td>1</td>\n",
       "      <td>1</td>\n",
       "      <td>10</td>\n",
       "    </tr>\n",
       "    <tr>\n",
       "      <th>All</th>\n",
       "      <td>12</td>\n",
       "      <td>1</td>\n",
       "      <td>1</td>\n",
       "      <td>1</td>\n",
       "      <td>1</td>\n",
       "      <td>1</td>\n",
       "      <td>3</td>\n",
       "      <td>1</td>\n",
       "      <td>21</td>\n",
       "    </tr>\n",
       "  </tbody>\n",
       "</table>\n",
       "</div>"
      ],
      "text/plain": [
       "name          +1  clap  grinning  heart  joy  raised_hands  smile  tada  All\n",
       "channel_name                                                                \n",
       "dailys         2     0         0      0    1             0      1     0    4\n",
       "general        3     0         0      0    0             0      0     0    3\n",
       "novedades      3     0         0      0    0             0      1     0    4\n",
       "test           4     1         1      1    0             1      1     1   10\n",
       "All           12     1         1      1    1             1      3     1   21"
      ]
     },
     "execution_count": 23,
     "metadata": {},
     "output_type": "execute_result"
    }
   ],
   "source": [
    "# Tabla de contingencia\n",
    "\n",
    "print('CONTEO DE REACCIONES POR CANAL')\n",
    "\n",
    "pd.crosstab(index=df_reactions['channel_name'],\n",
    "            columns=df_reactions['name'], margins=True)"
   ]
  },
  {
   "cell_type": "code",
   "execution_count": 24,
   "metadata": {},
   "outputs": [
    {
     "data": {
      "text/plain": [
       "Text(0.5, 0, '')"
      ]
     },
     "execution_count": 24,
     "metadata": {},
     "output_type": "execute_result"
    },
    {
     "data": {
      "image/png": "[encoded data removed]",
      "text/plain": [
       "<Figure size 1224x360 with 2 Axes>"
      ]
     },
     "metadata": {
      "needs_background": "light"
     },
     "output_type": "display_data"
    }
   ],
   "source": [
    "plt.figure (figsize=(17,5))\n",
    "\n",
    "plt.subplot(121)\n",
    "df_reactions.groupby('channel_name').count()['counts'].plot(kind='bar', color='darkslateblue')\n",
    "plt.title('Cantidad de reaciones por canal')\n",
    "plt.xlabel('')\n",
    "\n",
    "plt.subplot(122)\n",
    "df_reactions.groupby('name').count()['counts'].plot(kind='bar', color='darkslateblue')\n",
    "plt.title('Cantidad reacciones totales')\n",
    "plt.xlabel('')"
   ]
  },
  {
   "cell_type": "code",
   "execution_count": 30,
   "metadata": {},
   "outputs": [
    {
     "data": {
      "text/plain": [
       "Text(0.5, 0, '')"
      ]
     },
     "execution_count": 30,
     "metadata": {},
     "output_type": "execute_result"
    },
    {
     "data": {
      "image/png": "[encoded data removed]",
      "text/plain": [
       "<Figure size 432x288 with 1 Axes>"
      ]
     },
     "metadata": {
      "needs_background": "light"
     },
     "output_type": "display_data"
    }
   ],
   "source": [
    "df_reactions.groupby('user_hash').count()['counts'].plot(kind='bar', color='darkslateblue')\n",
    "plt.title('Cantidad reacciones por usuario')\n",
    "plt.xlabel('')"
   ]
  },
  {
   "cell_type": "code",
   "execution_count": 17,
   "metadata": {},
   "outputs": [
    {
     "data": {
      "text/plain": [
       "<Figure size 1440x720 with 0 Axes>"
      ]
     },
     "metadata": {},
     "output_type": "display_data"
    },
    {
     "data": {
      "image/png": "[encoded data removed]",
      "text/plain": [
       "<Figure size 432x288 with 1 Axes>"
      ]
     },
     "metadata": {
      "needs_background": "light"
     },
     "output_type": "display_data"
    }
   ],
   "source": [
    "plt.figure(figsize=(20,10))\n",
    "plot = pd.crosstab(index=df_reactions['channel_name'],\n",
    "                  columns=df_reactions['name']).apply(lambda r: r/r.sum()*100,axis=1).plot(kind='bar', stacked=True)"
   ]
  },
  {
   "cell_type": "markdown",
   "metadata": {},
   "source": [
    "### Porcentajes"
   ]
  },
  {
   "cell_type": "code",
   "execution_count": 17,
   "metadata": {},
   "outputs": [
    {
     "name": "stdout",
     "output_type": "stream",
     "text": [
      "PORCENTAJE DE REACCIONES POR CANAL\n"
     ]
    },
    {
     "data": {
      "text/html": [
       "<div>\n",
       "<style scoped>\n",
       "    .dataframe tbody tr th:only-of-type {\n",
       "        vertical-align: middle;\n",
       "    }\n",
       "\n",
       "    .dataframe tbody tr th {\n",
       "        vertical-align: top;\n",
       "    }\n",
       "\n",
       "    .dataframe thead th {\n",
       "        text-align: right;\n",
       "    }\n",
       "</style>\n",
       "<table border=\"1\" class=\"dataframe\">\n",
       "  <thead>\n",
       "    <tr style=\"text-align: right;\">\n",
       "      <th>name</th>\n",
       "      <th>+1</th>\n",
       "      <th>clap</th>\n",
       "      <th>grinning</th>\n",
       "      <th>heart</th>\n",
       "      <th>joy</th>\n",
       "      <th>raised_hands</th>\n",
       "      <th>smile</th>\n",
       "      <th>tada</th>\n",
       "      <th>All</th>\n",
       "    </tr>\n",
       "    <tr>\n",
       "      <th>channel_name</th>\n",
       "      <th></th>\n",
       "      <th></th>\n",
       "      <th></th>\n",
       "      <th></th>\n",
       "      <th></th>\n",
       "      <th></th>\n",
       "      <th></th>\n",
       "      <th></th>\n",
       "      <th></th>\n",
       "    </tr>\n",
       "  </thead>\n",
       "  <tbody>\n",
       "    <tr>\n",
       "      <th>dailys</th>\n",
       "      <td>10.0</td>\n",
       "      <td>0.0</td>\n",
       "      <td>0.0</td>\n",
       "      <td>0.0</td>\n",
       "      <td>5.0</td>\n",
       "      <td>0.0</td>\n",
       "      <td>5.0</td>\n",
       "      <td>0.0</td>\n",
       "      <td>19.0</td>\n",
       "    </tr>\n",
       "    <tr>\n",
       "      <th>general</th>\n",
       "      <td>14.0</td>\n",
       "      <td>0.0</td>\n",
       "      <td>0.0</td>\n",
       "      <td>0.0</td>\n",
       "      <td>0.0</td>\n",
       "      <td>0.0</td>\n",
       "      <td>0.0</td>\n",
       "      <td>0.0</td>\n",
       "      <td>14.0</td>\n",
       "    </tr>\n",
       "    <tr>\n",
       "      <th>novedades</th>\n",
       "      <td>14.0</td>\n",
       "      <td>0.0</td>\n",
       "      <td>0.0</td>\n",
       "      <td>0.0</td>\n",
       "      <td>0.0</td>\n",
       "      <td>0.0</td>\n",
       "      <td>5.0</td>\n",
       "      <td>0.0</td>\n",
       "      <td>19.0</td>\n",
       "    </tr>\n",
       "    <tr>\n",
       "      <th>test</th>\n",
       "      <td>19.0</td>\n",
       "      <td>5.0</td>\n",
       "      <td>5.0</td>\n",
       "      <td>5.0</td>\n",
       "      <td>0.0</td>\n",
       "      <td>5.0</td>\n",
       "      <td>5.0</td>\n",
       "      <td>5.0</td>\n",
       "      <td>48.0</td>\n",
       "    </tr>\n",
       "    <tr>\n",
       "      <th>All</th>\n",
       "      <td>57.0</td>\n",
       "      <td>5.0</td>\n",
       "      <td>5.0</td>\n",
       "      <td>5.0</td>\n",
       "      <td>5.0</td>\n",
       "      <td>5.0</td>\n",
       "      <td>14.0</td>\n",
       "      <td>5.0</td>\n",
       "      <td>100.0</td>\n",
       "    </tr>\n",
       "  </tbody>\n",
       "</table>\n",
       "</div>"
      ],
      "text/plain": [
       "name            +1  clap  grinning  heart  joy  raised_hands  smile  tada  \\\n",
       "channel_name                                                                \n",
       "dailys        10.0   0.0       0.0    0.0  5.0           0.0    5.0   0.0   \n",
       "general       14.0   0.0       0.0    0.0  0.0           0.0    0.0   0.0   \n",
       "novedades     14.0   0.0       0.0    0.0  0.0           0.0    5.0   0.0   \n",
       "test          19.0   5.0       5.0    5.0  0.0           5.0    5.0   5.0   \n",
       "All           57.0   5.0       5.0    5.0  5.0           5.0   14.0   5.0   \n",
       "\n",
       "name            All  \n",
       "channel_name         \n",
       "dailys         19.0  \n",
       "general        14.0  \n",
       "novedades      19.0  \n",
       "test           48.0  \n",
       "All           100.0  "
      ]
     },
     "execution_count": 17,
     "metadata": {},
     "output_type": "execute_result"
    }
   ],
   "source": [
    "# tabla de contingencia en porcentajes relativos total\n",
    "\n",
    "print('PORCENTAJE DE REACCIONES POR CANAL')\n",
    "\n",
    "pd.crosstab(index=df_reactions['channel_name'], \n",
    "            columns=df_reactions['name'],margins=True).apply(lambda r: r/len(df_reactions) *100, axis=1).round()"
   ]
  },
  {
   "cell_type": "code",
   "execution_count": 18,
   "metadata": {},
   "outputs": [
    {
     "data": {
      "text/plain": [
       "Text(0, 0.5, '')"
      ]
     },
     "execution_count": 18,
     "metadata": {},
     "output_type": "execute_result"
    },
    {
     "data": {
      "image/png": "[encoded data removed]",
      "text/plain": [
       "<Figure size 1224x1080 with 2 Axes>"
      ]
     },
     "metadata": {},
     "output_type": "display_data"
    }
   ],
   "source": [
    "plt.figure (figsize=(17,15))\n",
    "\n",
    "plt.subplot(223)\n",
    "df_reactions.groupby('name').count()['counts'].plot(kind='pie',\n",
    "                                                    autopct='%1.0f%%',\n",
    "                                                    shadow=True, \n",
    "                                                    startangle=90)\n",
    "plt.title('Porcentaje de reacciones totales')\n",
    "plt.xlabel('')\n",
    "plt.ylabel('')\n",
    "\n",
    "plt.subplot(224)\n",
    "df_reactions.groupby('channel_name').count()['counts'].plot(kind='pie',\n",
    "                                                            autopct='%1.0f%%',\n",
    "                                                            shadow=True, \n",
    "                                                            startangle=90)\n",
    "plt.title('Porcentaje de reacciones por canal')\n",
    "plt.xlabel('')\n",
    "plt.ylabel('')"
   ]
  },
  {
   "cell_type": "code",
   "execution_count": 19,
   "metadata": {},
   "outputs": [],
   "source": [
    "df_reactions.set_index('message_date', inplace=True)"
   ]
  },
  {
   "cell_type": "code",
   "execution_count": 20,
   "metadata": {},
   "outputs": [],
   "source": [
    "df_sub= df_reactions['counts']"
   ]
  },
  {
   "cell_type": "code",
   "execution_count": 21,
   "metadata": {},
   "outputs": [
    {
     "data": {
      "text/plain": [
       "<AxesSubplot:xlabel='message_date'>"
      ]
     },
     "execution_count": 21,
     "metadata": {},
     "output_type": "execute_result"
    },
    {
     "data": {
      "image/png": "[encoded data removed]",
      "text/plain": [
       "<Figure size 1080x360 with 1 Axes>"
      ]
     },
     "metadata": {
      "needs_background": "light"
     },
     "output_type": "display_data"
    }
   ],
   "source": [
    "# Ahora que la variable 'datetime' se reconoce como una serie de tiempo, es momento de visualizar nuestros datos\n",
    "df_sub.plot(grid=True, figsize=(15,5))"
   ]
  },
  {
   "cell_type": "code",
   "execution_count": null,
   "metadata": {},
   "outputs": [],
   "source": []
  },
  {
   "cell_type": "code",
   "execution_count": null,
   "metadata": {},
   "outputs": [],
   "source": []
  }
 ],
 "metadata": {
  "kernelspec": {
   "display_name": "Python 3",
   "language": "python",
   "name": "python3"
  },
  "language_info": {
   "codemirror_mode": {
    "name": "ipython",
    "version": 3
   },
   "file_extension": ".py",
   "mimetype": "text/x-python",
   "name": "python",
   "nbconvert_exporter": "python",
   "pygments_lexer": "ipython3",
   "version": "3.6.11"
  }
 },
 "nbformat": 4,
 "nbformat_minor": 4
}
