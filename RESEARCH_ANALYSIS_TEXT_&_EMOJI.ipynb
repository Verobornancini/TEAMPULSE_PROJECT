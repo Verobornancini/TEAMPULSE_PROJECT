{
 "cells": [
  {
   "cell_type": "markdown",
   "metadata": {},
   "source": [
    "# <span style=\"color:blue\">**Análisis de TEXTO**</span>"
   ]
  },
  {
   "cell_type": "markdown",
   "metadata": {},
   "source": [
    "# TEXTBLOB\n",
    "### DETECTAR IDIOMA"
   ]
  },
  {
   "cell_type": "code",
   "execution_count": 1,
   "metadata": {},
   "outputs": [
    {
     "name": "stdout",
     "output_type": "stream",
     "text": [
      "Requirement already satisfied: textblob in c:\\users\\verob\\miniconda3\\envs\\meraki2\\lib\\site-packages (0.15.3)\n",
      "Requirement already satisfied: nltk>=3.1 in c:\\users\\verob\\miniconda3\\envs\\meraki2\\lib\\site-packages (from textblob) (3.5)\n",
      "Requirement already satisfied: click in c:\\users\\verob\\miniconda3\\envs\\meraki2\\lib\\site-packages (from nltk>=3.1->textblob) (7.1.2)\n",
      "Requirement already satisfied: regex in c:\\users\\verob\\miniconda3\\envs\\meraki2\\lib\\site-packages (from nltk>=3.1->textblob) (2020.10.15)\n",
      "Requirement already satisfied: joblib in c:\\users\\verob\\miniconda3\\envs\\meraki2\\lib\\site-packages (from nltk>=3.1->textblob) (0.17.0)\n",
      "Requirement already satisfied: tqdm in c:\\users\\verob\\miniconda3\\envs\\meraki2\\lib\\site-packages (from nltk>=3.1->textblob) (4.50.2)\n"
     ]
    }
   ],
   "source": [
    "# Instalar la librería textblob\n",
    "!pip install textblob"
   ]
  },
  {
   "cell_type": "code",
   "execution_count": 2,
   "metadata": {},
   "outputs": [],
   "source": [
    "# Importamos librerías necesarias\n",
    "from textblob import TextBlob"
   ]
  },
  {
   "cell_type": "code",
   "execution_count": 3,
   "metadata": {},
   "outputs": [],
   "source": [
    "text1= TextBlob('i am very happy today')"
   ]
  },
  {
   "cell_type": "code",
   "execution_count": 4,
   "metadata": {},
   "outputs": [
    {
     "data": {
      "text/plain": [
       "'en'"
      ]
     },
     "execution_count": 4,
     "metadata": {},
     "output_type": "execute_result"
    }
   ],
   "source": [
    "text1.detect_language()"
   ]
  },
  {
   "cell_type": "code",
   "execution_count": 5,
   "metadata": {},
   "outputs": [],
   "source": [
    "text2= TextBlob('yo estoy muy feliz hoy')"
   ]
  },
  {
   "cell_type": "code",
   "execution_count": 6,
   "metadata": {},
   "outputs": [
    {
     "data": {
      "text/plain": [
       "'es'"
      ]
     },
     "execution_count": 6,
     "metadata": {},
     "output_type": "execute_result"
    }
   ],
   "source": [
    "text2.detect_language()"
   ]
  },
  {
   "cell_type": "markdown",
   "metadata": {},
   "source": [
    "### TRADUCIR"
   ]
  },
  {
   "cell_type": "code",
   "execution_count": 7,
   "metadata": {},
   "outputs": [
    {
     "data": {
      "text/plain": [
       "TextBlob(\"Estoy muy feliz hoy\")"
      ]
     },
     "execution_count": 7,
     "metadata": {},
     "output_type": "execute_result"
    }
   ],
   "source": [
    "text1.translate(to='es')"
   ]
  },
  {
   "cell_type": "code",
   "execution_count": 8,
   "metadata": {},
   "outputs": [
    {
     "data": {
      "text/plain": [
       "TextBlob(\"I am very happy today\")"
      ]
     },
     "execution_count": 8,
     "metadata": {},
     "output_type": "execute_result"
    }
   ],
   "source": [
    "# por defecto traduce cualquier idioma al inglés\n",
    "text2.translate()"
   ]
  },
  {
   "cell_type": "markdown",
   "metadata": {},
   "source": [
    "### ANÁLISIS DE SENTIMIENTO\n",
    "* Analiza textos en inglés por eso debo traducirlos primero"
   ]
  },
  {
   "cell_type": "code",
   "execution_count": 9,
   "metadata": {},
   "outputs": [],
   "source": [
    "text1_sent = text1.sentiment"
   ]
  },
  {
   "cell_type": "code",
   "execution_count": 10,
   "metadata": {},
   "outputs": [
    {
     "data": {
      "text/plain": [
       "Sentiment(polarity=1.0, subjectivity=1.0)"
      ]
     },
     "execution_count": 10,
     "metadata": {},
     "output_type": "execute_result"
    }
   ],
   "source": [
    "text1_sent"
   ]
  },
  {
   "cell_type": "markdown",
   "metadata": {},
   "source": [
    "### Trabajando con DATAFRAMES"
   ]
  },
  {
   "cell_type": "code",
   "execution_count": 2,
   "metadata": {},
   "outputs": [],
   "source": [
    "# Importamos librerías necesarias\n",
    "import pandas as pd\n",
    "import seaborn as sns\n",
    "from textblob import TextBlob"
   ]
  },
  {
   "cell_type": "code",
   "execution_count": 25,
   "metadata": {},
   "outputs": [
    {
     "data": {
      "text/plain": [
       "(239, 1)"
      ]
     },
     "execution_count": 25,
     "metadata": {},
     "output_type": "execute_result"
    }
   ],
   "source": [
    "# DATAFRAME en Inglés\n",
    "data_2 = pd.read_csv('files/ejemplo.csv')\n",
    "data_2.shape"
   ]
  },
  {
   "cell_type": "code",
   "execution_count": 26,
   "metadata": {},
   "outputs": [
    {
     "data": {
      "text/plain": [
       "Index(['content'], dtype='object')"
      ]
     },
     "execution_count": 26,
     "metadata": {},
     "output_type": "execute_result"
    }
   ],
   "source": [
    "data_2.columns"
   ]
  },
  {
   "cell_type": "code",
   "execution_count": 28,
   "metadata": {},
   "outputs": [],
   "source": [
    "# Funciones lambda para traducción\n",
    "# De inglés a español\n",
    "\n",
    "# Suele tener problemas con la cantidad de request\n",
    "\n",
    "data_2['new'] = data_2['content'].apply(lambda x: TextBlob(x).translate(to='es'))"
   ]
  },
  {
   "cell_type": "code",
   "execution_count": 29,
   "metadata": {},
   "outputs": [
    {
     "data": {
      "text/html": [
       "<div>\n",
       "<style scoped>\n",
       "    .dataframe tbody tr th:only-of-type {\n",
       "        vertical-align: middle;\n",
       "    }\n",
       "\n",
       "    .dataframe tbody tr th {\n",
       "        vertical-align: top;\n",
       "    }\n",
       "\n",
       "    .dataframe thead th {\n",
       "        text-align: right;\n",
       "    }\n",
       "</style>\n",
       "<table border=\"1\" class=\"dataframe\">\n",
       "  <thead>\n",
       "    <tr style=\"text-align: right;\">\n",
       "      <th></th>\n",
       "      <th>content</th>\n",
       "      <th>new</th>\n",
       "    </tr>\n",
       "  </thead>\n",
       "  <tbody>\n",
       "    <tr>\n",
       "      <th>0</th>\n",
       "      <td>If the choice is between mining for bitcoin - ...</td>\n",
       "      <td>(S, i,  , l, a,  , e, l, e, c, c, i, ó, n,  , ...</td>\n",
       "    </tr>\n",
       "    <tr>\n",
       "      <th>1</th>\n",
       "      <td>&lt;br/&gt;To me, Bitcoin (et al) appears to be an e...</td>\n",
       "      <td>(&lt;, b, r, /, &gt;,  , P, a, r, a,  , m, í, ,,  , ...</td>\n",
       "    </tr>\n",
       "    <tr>\n",
       "      <th>2</th>\n",
       "      <td>Bitcoin is a pyramid scheme backed by nothing ...</td>\n",
       "      <td>(B, i, t, c, o, i, n,  , e, s,  , u, n,  , e, ...</td>\n",
       "    </tr>\n",
       "    <tr>\n",
       "      <th>3</th>\n",
       "      <td>What does it cost in energy to dig up and refi...</td>\n",
       "      <td>(¿, C, u, á, n, t, o,  , c, u, e, s, t, a,  , ...</td>\n",
       "    </tr>\n",
       "    <tr>\n",
       "      <th>4</th>\n",
       "      <td>You forgot to mention stock buybacks.</td>\n",
       "      <td>(O, l, v, i, d, ó,  , m, e, n, c, i, o, n, a, ...</td>\n",
       "    </tr>\n",
       "  </tbody>\n",
       "</table>\n",
       "</div>"
      ],
      "text/plain": [
       "                                             content  \\\n",
       "0  If the choice is between mining for bitcoin - ...   \n",
       "1  <br/>To me, Bitcoin (et al) appears to be an e...   \n",
       "2  Bitcoin is a pyramid scheme backed by nothing ...   \n",
       "3  What does it cost in energy to dig up and refi...   \n",
       "4             You forgot to mention stock buybacks.    \n",
       "\n",
       "                                                 new  \n",
       "0  (S, i,  , l, a,  , e, l, e, c, c, i, ó, n,  , ...  \n",
       "1  (<, b, r, /, >,  , P, a, r, a,  , m, í, ,,  , ...  \n",
       "2  (B, i, t, c, o, i, n,  , e, s,  , u, n,  , e, ...  \n",
       "3  (¿, C, u, á, n, t, o,  , c, u, e, s, t, a,  , ...  \n",
       "4  (O, l, v, i, d, ó,  , m, e, n, c, i, o, n, a, ...  "
      ]
     },
     "execution_count": 29,
     "metadata": {},
     "output_type": "execute_result"
    }
   ],
   "source": [
    "data_2[:5]"
   ]
  },
  {
   "cell_type": "code",
   "execution_count": 33,
   "metadata": {},
   "outputs": [],
   "source": [
    "data_2['polarity'] = data_2['content'].apply(lambda x: TextBlob(x).sentiment.polarity)"
   ]
  },
  {
   "cell_type": "code",
   "execution_count": 34,
   "metadata": {},
   "outputs": [
    {
     "data": {
      "text/html": [
       "<div>\n",
       "<style scoped>\n",
       "    .dataframe tbody tr th:only-of-type {\n",
       "        vertical-align: middle;\n",
       "    }\n",
       "\n",
       "    .dataframe tbody tr th {\n",
       "        vertical-align: top;\n",
       "    }\n",
       "\n",
       "    .dataframe thead th {\n",
       "        text-align: right;\n",
       "    }\n",
       "</style>\n",
       "<table border=\"1\" class=\"dataframe\">\n",
       "  <thead>\n",
       "    <tr style=\"text-align: right;\">\n",
       "      <th></th>\n",
       "      <th>content</th>\n",
       "      <th>new</th>\n",
       "      <th>polarity</th>\n",
       "    </tr>\n",
       "  </thead>\n",
       "  <tbody>\n",
       "    <tr>\n",
       "      <th>0</th>\n",
       "      <td>If the choice is between mining for bitcoin - ...</td>\n",
       "      <td>(S, i,  , l, a,  , e, l, e, c, c, i, ó, n,  , ...</td>\n",
       "      <td>-0.150000</td>\n",
       "    </tr>\n",
       "    <tr>\n",
       "      <th>1</th>\n",
       "      <td>&lt;br/&gt;To me, Bitcoin (et al) appears to be an e...</td>\n",
       "      <td>(&lt;, b, r, /, &gt;,  , P, a, r, a,  , m, í, ,,  , ...</td>\n",
       "      <td>-0.107143</td>\n",
       "    </tr>\n",
       "    <tr>\n",
       "      <th>2</th>\n",
       "      <td>Bitcoin is a pyramid scheme backed by nothing ...</td>\n",
       "      <td>(B, i, t, c, o, i, n,  , e, s,  , u, n,  , e, ...</td>\n",
       "      <td>0.008566</td>\n",
       "    </tr>\n",
       "    <tr>\n",
       "      <th>3</th>\n",
       "      <td>What does it cost in energy to dig up and refi...</td>\n",
       "      <td>(¿, C, u, á, n, t, o,  , c, u, e, s, t, a,  , ...</td>\n",
       "      <td>0.146892</td>\n",
       "    </tr>\n",
       "    <tr>\n",
       "      <th>4</th>\n",
       "      <td>You forgot to mention stock buybacks.</td>\n",
       "      <td>(O, l, v, i, d, ó,  , m, e, n, c, i, o, n, a, ...</td>\n",
       "      <td>0.000000</td>\n",
       "    </tr>\n",
       "  </tbody>\n",
       "</table>\n",
       "</div>"
      ],
      "text/plain": [
       "                                             content  \\\n",
       "0  If the choice is between mining for bitcoin - ...   \n",
       "1  <br/>To me, Bitcoin (et al) appears to be an e...   \n",
       "2  Bitcoin is a pyramid scheme backed by nothing ...   \n",
       "3  What does it cost in energy to dig up and refi...   \n",
       "4             You forgot to mention stock buybacks.    \n",
       "\n",
       "                                                 new  polarity  \n",
       "0  (S, i,  , l, a,  , e, l, e, c, c, i, ó, n,  , ... -0.150000  \n",
       "1  (<, b, r, /, >,  , P, a, r, a,  , m, í, ,,  , ... -0.107143  \n",
       "2  (B, i, t, c, o, i, n,  , e, s,  , u, n,  , e, ...  0.008566  \n",
       "3  (¿, C, u, á, n, t, o,  , c, u, e, s, t, a,  , ...  0.146892  \n",
       "4  (O, l, v, i, d, ó,  , m, e, n, c, i, o, n, a, ...  0.000000  "
      ]
     },
     "execution_count": 34,
     "metadata": {},
     "output_type": "execute_result"
    }
   ],
   "source": [
    "data_2[:5]"
   ]
  },
  {
   "cell_type": "code",
   "execution_count": 35,
   "metadata": {},
   "outputs": [],
   "source": [
    "data_2['subjectivity'] = data_2['content'].apply(lambda x: TextBlob(x).sentiment.subjectivity)"
   ]
  },
  {
   "cell_type": "code",
   "execution_count": 36,
   "metadata": {},
   "outputs": [
    {
     "data": {
      "text/html": [
       "<div>\n",
       "<style scoped>\n",
       "    .dataframe tbody tr th:only-of-type {\n",
       "        vertical-align: middle;\n",
       "    }\n",
       "\n",
       "    .dataframe tbody tr th {\n",
       "        vertical-align: top;\n",
       "    }\n",
       "\n",
       "    .dataframe thead th {\n",
       "        text-align: right;\n",
       "    }\n",
       "</style>\n",
       "<table border=\"1\" class=\"dataframe\">\n",
       "  <thead>\n",
       "    <tr style=\"text-align: right;\">\n",
       "      <th></th>\n",
       "      <th>content</th>\n",
       "      <th>new</th>\n",
       "      <th>polarity</th>\n",
       "      <th>subjectivity</th>\n",
       "    </tr>\n",
       "  </thead>\n",
       "  <tbody>\n",
       "    <tr>\n",
       "      <th>0</th>\n",
       "      <td>If the choice is between mining for bitcoin - ...</td>\n",
       "      <td>(S, i,  , l, a,  , e, l, e, c, c, i, ó, n,  , ...</td>\n",
       "      <td>-0.150000</td>\n",
       "      <td>0.250000</td>\n",
       "    </tr>\n",
       "    <tr>\n",
       "      <th>1</th>\n",
       "      <td>&lt;br/&gt;To me, Bitcoin (et al) appears to be an e...</td>\n",
       "      <td>(&lt;, b, r, /, &gt;,  , P, a, r, a,  , m, í, ,,  , ...</td>\n",
       "      <td>-0.107143</td>\n",
       "      <td>0.471429</td>\n",
       "    </tr>\n",
       "    <tr>\n",
       "      <th>2</th>\n",
       "      <td>Bitcoin is a pyramid scheme backed by nothing ...</td>\n",
       "      <td>(B, i, t, c, o, i, n,  , e, s,  , u, n,  , e, ...</td>\n",
       "      <td>0.008566</td>\n",
       "      <td>0.415734</td>\n",
       "    </tr>\n",
       "    <tr>\n",
       "      <th>3</th>\n",
       "      <td>What does it cost in energy to dig up and refi...</td>\n",
       "      <td>(¿, C, u, á, n, t, o,  , c, u, e, s, t, a,  , ...</td>\n",
       "      <td>0.146892</td>\n",
       "      <td>0.598589</td>\n",
       "    </tr>\n",
       "    <tr>\n",
       "      <th>4</th>\n",
       "      <td>You forgot to mention stock buybacks.</td>\n",
       "      <td>(O, l, v, i, d, ó,  , m, e, n, c, i, o, n, a, ...</td>\n",
       "      <td>0.000000</td>\n",
       "      <td>0.000000</td>\n",
       "    </tr>\n",
       "  </tbody>\n",
       "</table>\n",
       "</div>"
      ],
      "text/plain": [
       "                                             content  \\\n",
       "0  If the choice is between mining for bitcoin - ...   \n",
       "1  <br/>To me, Bitcoin (et al) appears to be an e...   \n",
       "2  Bitcoin is a pyramid scheme backed by nothing ...   \n",
       "3  What does it cost in energy to dig up and refi...   \n",
       "4             You forgot to mention stock buybacks.    \n",
       "\n",
       "                                                 new  polarity  subjectivity  \n",
       "0  (S, i,  , l, a,  , e, l, e, c, c, i, ó, n,  , ... -0.150000      0.250000  \n",
       "1  (<, b, r, /, >,  , P, a, r, a,  , m, í, ,,  , ... -0.107143      0.471429  \n",
       "2  (B, i, t, c, o, i, n,  , e, s,  , u, n,  , e, ...  0.008566      0.415734  \n",
       "3  (¿, C, u, á, n, t, o,  , c, u, e, s, t, a,  , ...  0.146892      0.598589  \n",
       "4  (O, l, v, i, d, ó,  , m, e, n, c, i, o, n, a, ...  0.000000      0.000000  "
      ]
     },
     "execution_count": 36,
     "metadata": {},
     "output_type": "execute_result"
    }
   ],
   "source": [
    "data_2[:5]"
   ]
  },
  {
   "cell_type": "code",
   "execution_count": 38,
   "metadata": {},
   "outputs": [
    {
     "name": "stdout",
     "output_type": "stream",
     "text": [
      "Maximo valor de Polaridad 1.0\n",
      "Mínimo valor de Polaridad -1.0\n",
      "Valor medio de Polaridad 0.059614358084284676\n"
     ]
    }
   ],
   "source": [
    "print (\"Maximo valor de Polaridad\",data_2['polarity'].max())\n",
    "print (\"Mínimo valor de Polaridad\",data_2['polarity'].min())\n",
    "print (\"Valor medio de Polaridad\",data_2['polarity'].mean())"
   ]
  },
  {
   "cell_type": "code",
   "execution_count": 39,
   "metadata": {},
   "outputs": [
    {
     "data": {
      "text/plain": [
       "<AxesSubplot:xlabel='subjectivity'>"
      ]
     },
     "execution_count": 39,
     "metadata": {},
     "output_type": "execute_result"
    },
    {
     "data": {
      "image/png": "[encoded data removed]",
      "text/plain": [
       "<Figure size 432x288 with 1 Axes>"
      ]
     },
     "metadata": {
      "needs_background": "light"
     },
     "output_type": "display_data"
    }
   ],
   "source": [
    "sns.distplot(data_2['polarity'])\n",
    "sns.distplot(data_2['subjectivity'])"
   ]
  },
  {
   "cell_type": "code",
   "execution_count": 41,
   "metadata": {},
   "outputs": [],
   "source": [
    "# Agregar columnas al DataFrame con un ciclo While y variar el nombre en cada columna\n",
    "n=1\n",
    "while n<5:\n",
    "    data_2['P'+str(n)]= data_2['content'].apply(lambda x: TextBlob(x).sentiment.polarity)\n",
    "    data_2['S'+str(n)]= data_2['content'].apply(lambda x: TextBlob(x).sentiment.subjectivity)\n",
    "    n=n+1\n",
    "data_2.to_csv('nuevo_ejemplo.csv')                             "
   ]
  },
  {
   "cell_type": "code",
   "execution_count": 42,
   "metadata": {},
   "outputs": [
    {
     "data": {
      "text/html": [
       "<div>\n",
       "<style scoped>\n",
       "    .dataframe tbody tr th:only-of-type {\n",
       "        vertical-align: middle;\n",
       "    }\n",
       "\n",
       "    .dataframe tbody tr th {\n",
       "        vertical-align: top;\n",
       "    }\n",
       "\n",
       "    .dataframe thead th {\n",
       "        text-align: right;\n",
       "    }\n",
       "</style>\n",
       "<table border=\"1\" class=\"dataframe\">\n",
       "  <thead>\n",
       "    <tr style=\"text-align: right;\">\n",
       "      <th></th>\n",
       "      <th>Unnamed: 0</th>\n",
       "      <th>content</th>\n",
       "      <th>new</th>\n",
       "      <th>polarity</th>\n",
       "      <th>subjectivity</th>\n",
       "      <th>P1</th>\n",
       "      <th>S1</th>\n",
       "      <th>P2</th>\n",
       "      <th>S2</th>\n",
       "      <th>P3</th>\n",
       "      <th>S3</th>\n",
       "      <th>P4</th>\n",
       "      <th>S4</th>\n",
       "    </tr>\n",
       "  </thead>\n",
       "  <tbody>\n",
       "    <tr>\n",
       "      <th>0</th>\n",
       "      <td>0</td>\n",
       "      <td>If the choice is between mining for bitcoin - ...</td>\n",
       "      <td>Si la elección es entre la minería de bitcoin,...</td>\n",
       "      <td>-0.150000</td>\n",
       "      <td>0.250000</td>\n",
       "      <td>-0.150000</td>\n",
       "      <td>0.250000</td>\n",
       "      <td>-0.150000</td>\n",
       "      <td>0.250000</td>\n",
       "      <td>-0.150000</td>\n",
       "      <td>0.250000</td>\n",
       "      <td>-0.150000</td>\n",
       "      <td>0.250000</td>\n",
       "    </tr>\n",
       "    <tr>\n",
       "      <th>1</th>\n",
       "      <td>1</td>\n",
       "      <td>&lt;br/&gt;To me, Bitcoin (et al) appears to be an e...</td>\n",
       "      <td>&lt;br/&gt; Para mí, Bitcoin (et al) parece ser un j...</td>\n",
       "      <td>-0.107143</td>\n",
       "      <td>0.471429</td>\n",
       "      <td>-0.107143</td>\n",
       "      <td>0.471429</td>\n",
       "      <td>-0.107143</td>\n",
       "      <td>0.471429</td>\n",
       "      <td>-0.107143</td>\n",
       "      <td>0.471429</td>\n",
       "      <td>-0.107143</td>\n",
       "      <td>0.471429</td>\n",
       "    </tr>\n",
       "    <tr>\n",
       "      <th>2</th>\n",
       "      <td>2</td>\n",
       "      <td>Bitcoin is a pyramid scheme backed by nothing ...</td>\n",
       "      <td>Bitcoin es un esquema piramidal respaldado por...</td>\n",
       "      <td>0.008566</td>\n",
       "      <td>0.415734</td>\n",
       "      <td>0.008566</td>\n",
       "      <td>0.415734</td>\n",
       "      <td>0.008566</td>\n",
       "      <td>0.415734</td>\n",
       "      <td>0.008566</td>\n",
       "      <td>0.415734</td>\n",
       "      <td>0.008566</td>\n",
       "      <td>0.415734</td>\n",
       "    </tr>\n",
       "    <tr>\n",
       "      <th>3</th>\n",
       "      <td>3</td>\n",
       "      <td>What does it cost in energy to dig up and refi...</td>\n",
       "      <td>¿Cuánto cuesta en energía desenterrar y refina...</td>\n",
       "      <td>0.146892</td>\n",
       "      <td>0.598589</td>\n",
       "      <td>0.146892</td>\n",
       "      <td>0.598589</td>\n",
       "      <td>0.146892</td>\n",
       "      <td>0.598589</td>\n",
       "      <td>0.146892</td>\n",
       "      <td>0.598589</td>\n",
       "      <td>0.146892</td>\n",
       "      <td>0.598589</td>\n",
       "    </tr>\n",
       "    <tr>\n",
       "      <th>4</th>\n",
       "      <td>4</td>\n",
       "      <td>You forgot to mention stock buybacks.</td>\n",
       "      <td>Olvidó mencionar las recompras de acciones.</td>\n",
       "      <td>0.000000</td>\n",
       "      <td>0.000000</td>\n",
       "      <td>0.000000</td>\n",
       "      <td>0.000000</td>\n",
       "      <td>0.000000</td>\n",
       "      <td>0.000000</td>\n",
       "      <td>0.000000</td>\n",
       "      <td>0.000000</td>\n",
       "      <td>0.000000</td>\n",
       "      <td>0.000000</td>\n",
       "    </tr>\n",
       "  </tbody>\n",
       "</table>\n",
       "</div>"
      ],
      "text/plain": [
       "   Unnamed: 0                                            content  \\\n",
       "0           0  If the choice is between mining for bitcoin - ...   \n",
       "1           1  <br/>To me, Bitcoin (et al) appears to be an e...   \n",
       "2           2  Bitcoin is a pyramid scheme backed by nothing ...   \n",
       "3           3  What does it cost in energy to dig up and refi...   \n",
       "4           4             You forgot to mention stock buybacks.    \n",
       "\n",
       "                                                 new  polarity  subjectivity  \\\n",
       "0  Si la elección es entre la minería de bitcoin,... -0.150000      0.250000   \n",
       "1  <br/> Para mí, Bitcoin (et al) parece ser un j... -0.107143      0.471429   \n",
       "2  Bitcoin es un esquema piramidal respaldado por...  0.008566      0.415734   \n",
       "3  ¿Cuánto cuesta en energía desenterrar y refina...  0.146892      0.598589   \n",
       "4        Olvidó mencionar las recompras de acciones.  0.000000      0.000000   \n",
       "\n",
       "         P1        S1        P2        S2        P3        S3        P4  \\\n",
       "0 -0.150000  0.250000 -0.150000  0.250000 -0.150000  0.250000 -0.150000   \n",
       "1 -0.107143  0.471429 -0.107143  0.471429 -0.107143  0.471429 -0.107143   \n",
       "2  0.008566  0.415734  0.008566  0.415734  0.008566  0.415734  0.008566   \n",
       "3  0.146892  0.598589  0.146892  0.598589  0.146892  0.598589  0.146892   \n",
       "4  0.000000  0.000000  0.000000  0.000000  0.000000  0.000000  0.000000   \n",
       "\n",
       "         S4  \n",
       "0  0.250000  \n",
       "1  0.471429  \n",
       "2  0.415734  \n",
       "3  0.598589  \n",
       "4  0.000000  "
      ]
     },
     "execution_count": 42,
     "metadata": {},
     "output_type": "execute_result"
    }
   ],
   "source": [
    "# DATAFRAME en Inglés\n",
    "data_2 = pd.read_csv('files/nuevo_ejemplo.csv')\n",
    "data_2[:5]"
   ]
  },
  {
   "cell_type": "markdown",
   "metadata": {},
   "source": [
    "# <span style=\"color:blue\">**Análisis de EMOJIS**</span>\n",
    "* Los emojis son pequeñas imágenes insertadas en el texto, que expresan una emoción o una idea. La palabra emoji significa “picture-character” (viene del Japonés e — “picture,” and moji — “letter, character”)"
   ]
  },
  {
   "cell_type": "code",
   "execution_count": 11,
   "metadata": {},
   "outputs": [
    {
     "name": "stdout",
     "output_type": "stream",
     "text": [
      "Requirement already satisfied: emot in c:\\users\\verob\\miniconda3\\envs\\meraki2\\lib\\site-packages (2.1)\n"
     ]
    }
   ],
   "source": [
    "# Instalar la librería emot\n",
    "!pip install emot"
   ]
  },
  {
   "cell_type": "code",
   "execution_count": 12,
   "metadata": {},
   "outputs": [],
   "source": [
    "# importar las librerías necesarias\n",
    "import re\n",
    "from emot.emo_unicode import UNICODE_EMO, EMOTICONS"
   ]
  },
  {
   "cell_type": "code",
   "execution_count": 13,
   "metadata": {},
   "outputs": [],
   "source": [
    "# Función para convertir un emoji en una palabra\n",
    "def convert_emojis(text):\n",
    "    for emot in UNICODE_EMO:\n",
    "        text = text.replace(emot, \"_\".join(UNICODE_EMO[emot].replace(\",\",\"\").replace(\":\",\"\").split()))\n",
    "    return text"
   ]
  },
  {
   "cell_type": "code",
   "execution_count": 14,
   "metadata": {},
   "outputs": [
    {
     "data": {
      "text/plain": [
       "'Hola buenos días face_with_tears_of_joy. Hoy será un buen día smiling_face_with_sunglasses, Espero no terminar cansada unamused_face'"
      ]
     },
     "execution_count": 14,
     "metadata": {},
     "output_type": "execute_result"
    }
   ],
   "source": [
    "# Ejemplo\n",
    "text1 = \"Hola buenos días 😂. Hoy será un buen día 😎, Espero no terminar cansada 😒\"\n",
    "convert_emojis(text1)"
   ]
  },
  {
   "cell_type": "markdown",
   "metadata": {},
   "source": [
    "# <span style=\"color:blue\">**Análisis de EMOTICONES**</span>\n",
    "* Los emoticones son la representación de una cara humana hecha con signos de puntuación como la coma, guiones, comillas, parentesis, etc."
   ]
  },
  {
   "cell_type": "code",
   "execution_count": 15,
   "metadata": {},
   "outputs": [],
   "source": [
    "# Función para convertir un emotico en una palabra\n",
    "def convert_emoticons(text):\n",
    "    for emot in EMOTICONS:\n",
    "        text = re.sub(u'('+emot+')', \"_\".join(EMOTICONS[emot].replace(\",\",\"\").split()), text)\n",
    "    return text"
   ]
  },
  {
   "cell_type": "code",
   "execution_count": 16,
   "metadata": {},
   "outputs": [
    {
     "data": {
      "text/plain": [
       "'Happy_face_smiley Hola que tengas un buen día Happy_face_smiley'"
      ]
     },
     "execution_count": 16,
     "metadata": {},
     "output_type": "execute_result"
    }
   ],
   "source": [
    "# Ejemplo\n",
    "text = \":-) Hola que tengas un buen día :-)\"\n",
    "convert_emoticons(text)"
   ]
  },
  {
   "cell_type": "markdown",
   "metadata": {},
   "source": [
    "# <span style=\"color:blue\">**TRANSFORMACION DE FECHAS**</span>\n",
    "* La variable fecha viene en formato timestamp (marca de tiempo Unix): Cantidad de segundos que han transcurrido desde el 01/01/1970"
   ]
  },
  {
   "cell_type": "code",
   "execution_count": 1,
   "metadata": {},
   "outputs": [],
   "source": [
    "import datetime\n",
    "import time"
   ]
  },
  {
   "cell_type": "code",
   "execution_count": 2,
   "metadata": {},
   "outputs": [
    {
     "name": "stdout",
     "output_type": "stream",
     "text": [
      "2013-12-27 00:00:00\n",
      "<class 'datetime.datetime'>\n"
     ]
    }
   ],
   "source": [
    "fecha= datetime.datetime(2013,12,27)\n",
    "print(fecha)\n",
    "print(type(fecha))"
   ]
  },
  {
   "cell_type": "code",
   "execution_count": 3,
   "metadata": {},
   "outputs": [
    {
     "name": "stdout",
     "output_type": "stream",
     "text": [
      "Cantidad de segundos transcurridos desde el 01/01/1970 : 1388113200.0\n",
      "<class 'float'>\n"
     ]
    }
   ],
   "source": [
    "marca_de_tiempo=time.mktime(fecha.timetuple())\n",
    "print('Cantidad de segundos transcurridos desde el 01/01/1970 :',marca_de_tiempo)\n",
    "print(type(marca_de_tiempo))"
   ]
  },
  {
   "cell_type": "code",
   "execution_count": 4,
   "metadata": {},
   "outputs": [
    {
     "name": "stdout",
     "output_type": "stream",
     "text": [
      "dt_object = 2018-12-25 06:27:53\n",
      "type(dt_object) = <class 'datetime.datetime'>\n"
     ]
    }
   ],
   "source": [
    "from datetime import datetime\n",
    "\n",
    "timestamp = 1545730073\n",
    "dt_object = datetime.fromtimestamp(timestamp)\n",
    "\n",
    "print(\"dt_object =\", dt_object)\n",
    "print(\"type(dt_object) =\", type(dt_object))"
   ]
  },
  {
   "cell_type": "code",
   "execution_count": null,
   "metadata": {},
   "outputs": [],
   "source": []
  }
 ],
 "metadata": {
  "kernelspec": {
   "display_name": "Python 3",
   "language": "python",
   "name": "python3"
  },
  "language_info": {
   "codemirror_mode": {
    "name": "ipython",
    "version": 3
   },
   "file_extension": ".py",
   "mimetype": "text/x-python",
   "name": "python",
   "nbconvert_exporter": "python",
   "pygments_lexer": "ipython3",
   "version": "3.6.12"
  }
 },
 "nbformat": 4,
 "nbformat_minor": 4
}
