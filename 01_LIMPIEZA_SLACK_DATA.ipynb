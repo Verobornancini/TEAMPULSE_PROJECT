{
 "cells": [
  {
   "cell_type": "markdown",
   "metadata": {},
   "source": [
    "# <span style=\"color:blue\"> SLACK - BOT</span>"
   ]
  },
  {
   "cell_type": "code",
   "execution_count": 2,
   "metadata": {},
   "outputs": [],
   "source": [
    "# Importamos librerías necesarias\n",
    "import pandas as pd\n",
    "import numpy as np\n",
    "from textblob import TextBlob\n",
    "from datetime import datetime\n",
    "import time\n",
    "import json\n",
    "from hashlib import md5"
   ]
  },
  {
   "cell_type": "markdown",
   "metadata": {},
   "source": [
    "## <span style=\"color:blue\"> 1) Exploración de los datos y hasheo </span>"
   ]
  },
  {
   "cell_type": "code",
   "execution_count": 10,
   "metadata": {},
   "outputs": [],
   "source": [
    "# Nos permite trabajar con el dataset local en caso de teenrlo,\n",
    "# Sino nos permite obtenerlo desde la url donde está alojado.\n",
    "\n",
    "import os \n",
    "filename = \"files/slack_historial_de_mensajes.csv\" if os.path.exists(\"files/slack_historial_de_mensajes.csv\") else \"https://teampulse-bot.s3.amazonaws.com/slack_historial_de_mensajes.csv\"\n",
    "df = pd.read_csv(filename,index_col=0)"
   ]
  },
  {
   "cell_type": "code",
   "execution_count": 11,
   "metadata": {},
   "outputs": [
    {
     "data": {
      "text/plain": [
       "Index(['client_msg_id', 'type', 'text', 'user', 'ts', 'team', 'blocks',\n",
       "       'bot_id', 'bot_profile', 'files', 'upload', 'display_as_bot',\n",
       "       'thread_ts', 'reply_count', 'reply_users_count', 'latest_reply',\n",
       "       'reply_users', 'subscribed', 'reactions', 'subtype', 'inviter',\n",
       "       'edited', 'attachments', 'Channel_id', 'Channel_name', 'bot_link',\n",
       "       'purpose'],\n",
       "      dtype='object')"
      ]
     },
     "execution_count": 11,
     "metadata": {},
     "output_type": "execute_result"
    }
   ],
   "source": [
    "df.columns"
   ]
  },
  {
   "cell_type": "code",
   "execution_count": 12,
   "metadata": {},
   "outputs": [
    {
     "data": {
      "text/plain": [
       "(784, 27)"
      ]
     },
     "execution_count": 12,
     "metadata": {},
     "output_type": "execute_result"
    }
   ],
   "source": [
    "df.shape"
   ]
  },
  {
   "cell_type": "markdown",
   "metadata": {},
   "source": [
    "### Generación de Hash para los usuarios y eliminacion de la columna USER"
   ]
  },
  {
   "cell_type": "code",
   "execution_count": 5,
   "metadata": {},
   "outputs": [],
   "source": [
    "# Es necesario setear el encoding utf-8 andes de hashear\n",
    "# Los floats no tienen atributo 'encode' por eso los debemos pasar a str\n",
    "\n",
    "def hashit(val):\n",
    "    if isinstance(val, float): \n",
    "        return str(val)\n",
    "    return md5(val.encode('utf-8')).hexdigest()\n",
    "\n",
    "\n",
    "df['user_hash']=df['user'].apply(hashit)"
   ]
  },
  {
   "cell_type": "code",
   "execution_count": 6,
   "metadata": {},
   "outputs": [],
   "source": [
    "df=df.drop(['user'], axis=1)"
   ]
  },
  {
   "cell_type": "code",
   "execution_count": 7,
   "metadata": {},
   "outputs": [
    {
     "data": {
      "text/plain": [
       "(784, 28)"
      ]
     },
     "execution_count": 7,
     "metadata": {},
     "output_type": "execute_result"
    }
   ],
   "source": [
    "df.shape"
   ]
  },
  {
   "cell_type": "code",
   "execution_count": 8,
   "metadata": {},
   "outputs": [
    {
     "data": {
      "text/plain": [
       "Index(['Unnamed: 0', 'client_msg_id', 'type', 'text', 'ts', 'team', 'blocks',\n",
       "       'bot_id', 'bot_profile', 'files', 'upload', 'display_as_bot',\n",
       "       'thread_ts', 'reply_count', 'reply_users_count', 'latest_reply',\n",
       "       'reply_users', 'subscribed', 'reactions', 'subtype', 'inviter',\n",
       "       'edited', 'attachments', 'Channel_id', 'Channel_name', 'bot_link',\n",
       "       'purpose', 'user_hash'],\n",
       "      dtype='object')"
      ]
     },
     "execution_count": 8,
     "metadata": {},
     "output_type": "execute_result"
    }
   ],
   "source": [
    "df.columns"
   ]
  },
  {
   "cell_type": "markdown",
   "metadata": {},
   "source": [
    "## <span style=\"color:blue\">2) Filtrado de los mensajes irrelevantes </span>"
   ]
  },
  {
   "cell_type": "code",
   "execution_count": 9,
   "metadata": {},
   "outputs": [],
   "source": [
    "# 1) Filtramos los mensajes que haya publicado el bot\n",
    "df= df.drop(df[df['bot_id']=='B01CM1J688G'].index)"
   ]
  },
  {
   "cell_type": "code",
   "execution_count": 10,
   "metadata": {},
   "outputs": [
    {
     "data": {
      "text/plain": [
       "(564, 28)"
      ]
     },
     "execution_count": 10,
     "metadata": {},
     "output_type": "execute_result"
    }
   ],
   "source": [
    "df.shape"
   ]
  },
  {
   "cell_type": "code",
   "execution_count": 11,
   "metadata": {},
   "outputs": [],
   "source": [
    "# 2) Filtramos los mensajes de aviso de un nuevo miembro en el canal\n",
    "df.drop(df[df.text.str.contains('se ha unido al canal', na=False)].index, inplace = True)"
   ]
  },
  {
   "cell_type": "code",
   "execution_count": 12,
   "metadata": {},
   "outputs": [
    {
     "data": {
      "text/plain": [
       "(529, 28)"
      ]
     },
     "execution_count": 12,
     "metadata": {},
     "output_type": "execute_result"
    }
   ],
   "source": [
    "df.shape"
   ]
  },
  {
   "cell_type": "code",
   "execution_count": 13,
   "metadata": {},
   "outputs": [],
   "source": [
    "# 3) Filtramos los mensajes de pedidos de descarga para el bot\n",
    "df.drop(df[df.text.str.contains('descargar', na=False)].index, inplace = True)"
   ]
  },
  {
   "cell_type": "code",
   "execution_count": 14,
   "metadata": {},
   "outputs": [
    {
     "data": {
      "text/plain": [
       "(456, 28)"
      ]
     },
     "execution_count": 14,
     "metadata": {},
     "output_type": "execute_result"
    }
   ],
   "source": [
    "df.shape"
   ]
  },
  {
   "cell_type": "code",
   "execution_count": 15,
   "metadata": {},
   "outputs": [],
   "source": [
    "# 4) Filtramos los mensajes en los que arrobamos al bot para saludarlo\n",
    "df.drop(df[df.text.str.contains('<@U01BXC8LK27>', na=False)].index, inplace = True)"
   ]
  },
  {
   "cell_type": "code",
   "execution_count": 16,
   "metadata": {},
   "outputs": [
    {
     "data": {
      "text/plain": [
       "(433, 28)"
      ]
     },
     "execution_count": 16,
     "metadata": {},
     "output_type": "execute_result"
    }
   ],
   "source": [
    "df.shape"
   ]
  },
  {
   "cell_type": "code",
   "execution_count": 17,
   "metadata": {},
   "outputs": [],
   "source": [
    "# 5) Filtramos los mensajes en los que se comparten direcciones web\n",
    "df.drop(df[df.text.str.contains('<https://', na=False)].index, inplace = True)"
   ]
  },
  {
   "cell_type": "code",
   "execution_count": 18,
   "metadata": {},
   "outputs": [
    {
     "data": {
      "text/plain": [
       "(397, 28)"
      ]
     },
     "execution_count": 18,
     "metadata": {},
     "output_type": "execute_result"
    }
   ],
   "source": [
    "df.shape"
   ]
  },
  {
   "cell_type": "code",
   "execution_count": 19,
   "metadata": {},
   "outputs": [],
   "source": [
    "# 5) Filtramos los mensajes nulos NaN\n",
    "df=df.dropna(subset=['text'])"
   ]
  },
  {
   "cell_type": "code",
   "execution_count": 20,
   "metadata": {},
   "outputs": [
    {
     "data": {
      "text/plain": [
       "(378, 28)"
      ]
     },
     "execution_count": 20,
     "metadata": {},
     "output_type": "execute_result"
    }
   ],
   "source": [
    "df.shape"
   ]
  },
  {
   "cell_type": "code",
   "execution_count": 21,
   "metadata": {},
   "outputs": [],
   "source": [
    "# Despues del proceso de filtrado, reseteamos el índice para evitar problemas futuros\n",
    "df.reset_index(inplace=True)"
   ]
  },
  {
   "cell_type": "markdown",
   "metadata": {},
   "source": [
    "## <span style=\"color:blue\">3) Transformación de datos</span>\n",
    "\n",
    "### 3.1) Transformación de fechas\n",
    "* La variable fecha viene en formato timestamp (marca de tiempo Unix): Cantidad de segundos que han transcurrido desde el **01/01/1970**"
   ]
  },
  {
   "cell_type": "code",
   "execution_count": 22,
   "metadata": {},
   "outputs": [],
   "source": [
    "# Transformo la variable 'ts'(timestamp) a una nueva variable 'datetime'\n",
    "date = []\n",
    "\n",
    "for i in range(0, len(df)):\n",
    "    timestamp=df.iloc[i]['ts']\n",
    "    dt_object = datetime.fromtimestamp(timestamp)\n",
    "    date.append(dt_object)\n",
    "df['datetime'] = pd.Series(date)"
   ]
  },
  {
   "cell_type": "code",
   "execution_count": 23,
   "metadata": {},
   "outputs": [],
   "source": [
    "# Separo la información de fecha y hora en columnas diferentes\n",
    "df['date'] = [d.date() for d in df['datetime']]\n",
    "df['time'] = [d.time() for d in df['datetime']]"
   ]
  },
  {
   "cell_type": "code",
   "execution_count": 24,
   "metadata": {},
   "outputs": [],
   "source": [
    "# Separo la información de hora, minuto y segundo en columnas diferentes\n",
    "df[[\"h\",\"m\",\"s\"]] = pd.DataFrame([(x.hour, x.minute, x.second) for x in df[\"time\"]])"
   ]
  },
  {
   "cell_type": "markdown",
   "metadata": {},
   "source": [
    "### 3.3) Traducción de los mensajes"
   ]
  },
  {
   "cell_type": "code",
   "execution_count": 25,
   "metadata": {},
   "outputs": [
    {
     "data": {
      "text/plain": [
       "'Hello good day'"
      ]
     },
     "execution_count": 25,
     "metadata": {},
     "output_type": "execute_result"
    }
   ],
   "source": [
    "message = TextBlob('hola buenos dias')\n",
    "new = message.translate(from_lang='es', to='en')\n",
    "str(new)"
   ]
  },
  {
   "cell_type": "code",
   "execution_count": 26,
   "metadata": {},
   "outputs": [],
   "source": [
    "df['translations'] =\"A\""
   ]
  },
  {
   "cell_type": "code",
   "execution_count": 27,
   "metadata": {},
   "outputs": [],
   "source": [
    "error_message=\"\"\n",
    "numero=0\n",
    "\n",
    "try:\n",
    "    for i, row in df.iterrows():\n",
    "        numero=i\n",
    "        error_message = row['text']\n",
    "        message = TextBlob(row['text'])\n",
    "        if row['translations'] ==\"A\":\n",
    "            try:\n",
    "                new = message.translate(from_lang='es', to='en')\n",
    "                df.loc[i,'translations'] = str(new)\n",
    "                time.sleep(3)\n",
    "            except Exception as e:\n",
    "                if (str(e))==\"Translation API returned the input string unchanged.\":\n",
    "                    df.loc[i,'translations'] = row['text']\n",
    "                else:\n",
    "                    print(str(e))\n",
    "            \n",
    "\n",
    "except Exception as e: \n",
    "    print(\"An error occurred\")\n",
    "    print(error_message)\n",
    "    print(str(numero))\n",
    "    print(str(e))"
   ]
  },
  {
   "cell_type": "code",
   "execution_count": 28,
   "metadata": {},
   "outputs": [
    {
     "data": {
      "text/plain": [
       "0     Thank you. I already wrote, I hope someone wil...\n",
       "1                                     Take care no more\n",
       "2                            Hello good day ! ok: wink:\n",
       "3                                      Nothing happens!\n",
       "4                                    Go Ivan! Good day!\n",
       "5     Hi. Very good days.\\nI won't be able to be in ...\n",
       "6                                                Hahaha\n",
       "7     If you can close this slack for today so I don...\n",
       "8     haha it could be ... I promise you I don't hav...\n",
       "9     Vero, you are going to have to consider anothe...\n",
       "10                       I've been moving forward there\n",
       "11       But I already have something for that in sight\n",
       "12                               I never command things\n",
       "13                                                   No\n",
       "14    You need to be unified in order to choose who ...\n",
       "Name: translations, dtype: object"
      ]
     },
     "execution_count": 28,
     "metadata": {},
     "output_type": "execute_result"
    }
   ],
   "source": [
    "df['translations'][:15]"
   ]
  },
  {
   "cell_type": "code",
   "execution_count": 29,
   "metadata": {},
   "outputs": [
    {
     "data": {
      "text/plain": [
       "0       Gracias. Ya les escribí, espero se una alguien.\n",
       "1                                        Cuidese no mas\n",
       "2                          hola buenos días ! ok :wink:\n",
       "3                                         No pasa nada!\n",
       "4                                  Dale Ivan! Buen día!\n",
       "5     Hola. Muy buenos días.\\nNo podré estar hoy en ...\n",
       "6                                            Jajajajaja\n",
       "7     Si pueden por hoy cerrar este slack asi no les...\n",
       "8     jaja puede ser... les prometo que no me queda ...\n",
       "9     Vero, te vas a tener que plantear otro modo de...\n",
       "10                                  Vengo avanzando ahi\n",
       "11                 Pero ya tengo en vista algo para eso\n",
       "12                             Nunca me mando las cosas\n",
       "13                                                   No\n",
       "14    Necesitas que este unificado para poder elegir...\n",
       "Name: text, dtype: object"
      ]
     },
     "execution_count": 29,
     "metadata": {},
     "output_type": "execute_result"
    }
   ],
   "source": [
    "df['text'][:15]"
   ]
  },
  {
   "cell_type": "code",
   "execution_count": 31,
   "metadata": {},
   "outputs": [],
   "source": [
    "# Lo guardamos como un archivo .csv\n",
    "df.to_csv('files/slack_historial_de_mensajes_filtrados.csv', sep=',')"
   ]
  }
 ],
 "metadata": {
  "kernelspec": {
   "display_name": "Python 3",
   "language": "python",
   "name": "python3"
  },
  "language_info": {
   "codemirror_mode": {
    "name": "ipython",
    "version": 3
   },
   "file_extension": ".py",
   "mimetype": "text/x-python",
   "name": "python",
   "nbconvert_exporter": "python",
   "pygments_lexer": "ipython3",
   "version": "3.6.11"
  }
 },
 "nbformat": 4,
 "nbformat_minor": 4
}
