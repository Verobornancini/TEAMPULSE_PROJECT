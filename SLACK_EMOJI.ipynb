{
 "cells": [
  {
   "cell_type": "markdown",
   "metadata": {},
   "source": [
    "# <span style=\"color:blue\">**SLACK**</span>\n",
    "### Análisis de sentimientos basado en EMOJIS y EMOTICONES"
   ]
  },
  {
   "cell_type": "markdown",
   "metadata": {},
   "source": [
    "### 1) Establecer el entorno\n",
    "* Creo un nuevo entorno y lo activo\n",
    "* Instalo las librerías necesarias para analisis de emojis\n",
    "> pip install emoji --upgrade       \n",
    "> pip install emot\n",
    "* Instalo las librerías necesarias para analisis de texto\n",
    "> pip install nltk\n",
    "* Posicionarse en la carpeta PNL-2019: C:\\Users\\verob\\OneDrive\\Documentos\\BITLOGIC\\TEAMPULSE\\PLN-2019 e instalar los requerimientos\n",
    "> pip install -r requirements.txt\n",
    "\n",
    "\n",
    "### 2) Ejecución\n",
    "**1.** Activar el entorno virtual si no lo hemos hecho anteriormente\n",
    "\n",
    "**2.** Correr el script que necesitemos. Por ejemplo el de train.py:\n",
    "> python languagemodeling/scripts/train.py -h"
   ]
  },
  {
   "cell_type": "code",
   "execution_count": 1,
   "metadata": {},
   "outputs": [],
   "source": [
    "# Importamos librerías necesarias\n",
    "import matplotlib.pyplot as plt\n",
    "import numpy as np\n",
    "import pandas as pd\n",
    "import seaborn as sns\n",
    "\n",
    "import emoji\n",
    "import re\n",
    "from emot.emo_unicode import UNICODE_EMO, EMOTICONS"
   ]
  },
  {
   "cell_type": "code",
   "execution_count": 2,
   "metadata": {},
   "outputs": [
    {
     "data": {
      "text/plain": [
       "(797, 26)"
      ]
     },
     "execution_count": 2,
     "metadata": {},
     "output_type": "execute_result"
    }
   ],
   "source": [
    "data = pd.read_csv('files/slack_historial_de_mensajes.csv')\n",
    "data.shape"
   ]
  },
  {
   "cell_type": "code",
   "execution_count": 3,
   "metadata": {},
   "outputs": [
    {
     "data": {
      "text/html": [
       "<div>\n",
       "<style scoped>\n",
       "    .dataframe tbody tr th:only-of-type {\n",
       "        vertical-align: middle;\n",
       "    }\n",
       "\n",
       "    .dataframe tbody tr th {\n",
       "        vertical-align: top;\n",
       "    }\n",
       "\n",
       "    .dataframe thead th {\n",
       "        text-align: right;\n",
       "    }\n",
       "</style>\n",
       "<table border=\"1\" class=\"dataframe\">\n",
       "  <thead>\n",
       "    <tr style=\"text-align: right;\">\n",
       "      <th></th>\n",
       "      <th>Unnamed: 0</th>\n",
       "      <th>bot_id</th>\n",
       "      <th>type</th>\n",
       "      <th>text</th>\n",
       "      <th>user</th>\n",
       "      <th>ts</th>\n",
       "      <th>team</th>\n",
       "      <th>bot_profile</th>\n",
       "      <th>client_msg_id</th>\n",
       "      <th>blocks</th>\n",
       "      <th>...</th>\n",
       "      <th>latest_reply</th>\n",
       "      <th>reply_users</th>\n",
       "      <th>subscribed</th>\n",
       "      <th>reactions</th>\n",
       "      <th>subtype</th>\n",
       "      <th>inviter</th>\n",
       "      <th>edited</th>\n",
       "      <th>attachments</th>\n",
       "      <th>bot_link</th>\n",
       "      <th>purpose</th>\n",
       "    </tr>\n",
       "  </thead>\n",
       "  <tbody>\n",
       "    <tr>\n",
       "      <th>0</th>\n",
       "      <td>0</td>\n",
       "      <td>B01CM1J688G</td>\n",
       "      <td>message</td>\n",
       "      <td>Se descargaron 257 mensajes del canal dailys</td>\n",
       "      <td>U01BXC8LK27</td>\n",
       "      <td>1.604074e+09</td>\n",
       "      <td>T01BYMK9H7B</td>\n",
       "      <td>{'id': 'B01CM1J688G', 'deleted': False, 'name'...</td>\n",
       "      <td>NaN</td>\n",
       "      <td>NaN</td>\n",
       "      <td>...</td>\n",
       "      <td>NaN</td>\n",
       "      <td>NaN</td>\n",
       "      <td>NaN</td>\n",
       "      <td>NaN</td>\n",
       "      <td>NaN</td>\n",
       "      <td>NaN</td>\n",
       "      <td>NaN</td>\n",
       "      <td>NaN</td>\n",
       "      <td>NaN</td>\n",
       "      <td>NaN</td>\n",
       "    </tr>\n",
       "    <tr>\n",
       "      <th>1</th>\n",
       "      <td>1</td>\n",
       "      <td>NaN</td>\n",
       "      <td>message</td>\n",
       "      <td>Cuidese no mas</td>\n",
       "      <td>U01BDB84630</td>\n",
       "      <td>1.604064e+09</td>\n",
       "      <td>T01BYMK9H7B</td>\n",
       "      <td>NaN</td>\n",
       "      <td>2F57DD3E-D098-49D7-AEDB-342AB71BCA7E</td>\n",
       "      <td>[{'type': 'rich_text', 'block_id': 'oA/g', 'el...</td>\n",
       "      <td>...</td>\n",
       "      <td>NaN</td>\n",
       "      <td>NaN</td>\n",
       "      <td>NaN</td>\n",
       "      <td>NaN</td>\n",
       "      <td>NaN</td>\n",
       "      <td>NaN</td>\n",
       "      <td>NaN</td>\n",
       "      <td>NaN</td>\n",
       "      <td>NaN</td>\n",
       "      <td>NaN</td>\n",
       "    </tr>\n",
       "  </tbody>\n",
       "</table>\n",
       "<p>2 rows × 26 columns</p>\n",
       "</div>"
      ],
      "text/plain": [
       "   Unnamed: 0       bot_id     type  \\\n",
       "0           0  B01CM1J688G  message   \n",
       "1           1          NaN  message   \n",
       "\n",
       "                                           text         user            ts  \\\n",
       "0  Se descargaron 257 mensajes del canal dailys  U01BXC8LK27  1.604074e+09   \n",
       "1                                Cuidese no mas  U01BDB84630  1.604064e+09   \n",
       "\n",
       "          team                                        bot_profile  \\\n",
       "0  T01BYMK9H7B  {'id': 'B01CM1J688G', 'deleted': False, 'name'...   \n",
       "1  T01BYMK9H7B                                                NaN   \n",
       "\n",
       "                          client_msg_id  \\\n",
       "0                                   NaN   \n",
       "1  2F57DD3E-D098-49D7-AEDB-342AB71BCA7E   \n",
       "\n",
       "                                              blocks  ... latest_reply  \\\n",
       "0                                                NaN  ...          NaN   \n",
       "1  [{'type': 'rich_text', 'block_id': 'oA/g', 'el...  ...          NaN   \n",
       "\n",
       "  reply_users subscribed  reactions  subtype  inviter  edited attachments  \\\n",
       "0         NaN        NaN        NaN      NaN      NaN     NaN         NaN   \n",
       "1         NaN        NaN        NaN      NaN      NaN     NaN         NaN   \n",
       "\n",
       "  bot_link purpose  \n",
       "0      NaN     NaN  \n",
       "1      NaN     NaN  \n",
       "\n",
       "[2 rows x 26 columns]"
      ]
     },
     "execution_count": 3,
     "metadata": {},
     "output_type": "execute_result"
    }
   ],
   "source": [
    "data[:2]"
   ]
  },
  {
   "cell_type": "code",
   "execution_count": 4,
   "metadata": {},
   "outputs": [
    {
     "data": {
      "text/plain": [
       "Index(['Unnamed: 0', 'bot_id', 'type', 'text', 'user', 'ts', 'team',\n",
       "       'bot_profile', 'client_msg_id', 'blocks', 'files', 'upload',\n",
       "       'display_as_bot', 'thread_ts', 'reply_count', 'reply_users_count',\n",
       "       'latest_reply', 'reply_users', 'subscribed', 'reactions', 'subtype',\n",
       "       'inviter', 'edited', 'attachments', 'bot_link', 'purpose'],\n",
       "      dtype='object')"
      ]
     },
     "execution_count": 4,
     "metadata": {},
     "output_type": "execute_result"
    }
   ],
   "source": [
    "data.columns"
   ]
  },
  {
   "cell_type": "code",
   "execution_count": 5,
   "metadata": {},
   "outputs": [
    {
     "data": {
      "text/plain": [
       "array(['U01BXC8LK27', 'U01BDB84630', 'U01BS8YKHS8', 'U01BYMTTXCH',\n",
       "       'U01B5AQPV39', 'U01BH0Q8MHB', 'U01C9U40LTS', 'U01BL9EATFV',\n",
       "       'U01BL3ARGV8', 'U01B5AZNSB1'], dtype=object)"
      ]
     },
     "execution_count": 5,
     "metadata": {},
     "output_type": "execute_result"
    }
   ],
   "source": [
    "data.user.unique()"
   ]
  },
  {
   "cell_type": "code",
   "execution_count": 6,
   "metadata": {},
   "outputs": [
    {
     "data": {
      "text/plain": [
       "array(['T01BYMK9H7B', nan], dtype=object)"
      ]
     },
     "execution_count": 6,
     "metadata": {},
     "output_type": "execute_result"
    }
   ],
   "source": [
    "data.team.unique()"
   ]
  },
  {
   "cell_type": "code",
   "execution_count": 7,
   "metadata": {},
   "outputs": [
    {
     "data": {
      "text/plain": [
       "array([nan, \"[{'name': 'clap', 'users': ['U01BS8YKHS8'], 'count': 1}]\",\n",
       "       \"[{'name': 'raised_hands', 'users': ['U01BYMTTXCH'], 'count': 1}]\",\n",
       "       \"[{'name': '+1', 'users': ['U01BS8YKHS8', 'U01B5AQPV39'], 'count': 2}]\",\n",
       "       \"[{'name': 'smile', 'users': ['U01BS8YKHS8'], 'count': 1}]\",\n",
       "       \"[{'name': 'raised_hands', 'users': ['U01B5AQPV39'], 'count': 1}, {'name': '+1', 'users': ['U01B5AQPV39'], 'count': 1}]\",\n",
       "       \"[{'name': 'joy', 'users': ['U01BYMTTXCH'], 'count': 1}]\",\n",
       "       \"[{'name': '+1', 'users': ['U01BS8YKHS8'], 'count': 1}]\",\n",
       "       \"[{'name': 'raised_hands', 'users': ['U01B5AZNSB1'], 'count': 1}, {'name': 'wave', 'users': ['U01BH0Q8MHB'], 'count': 1}]\",\n",
       "       \"[{'name': '+1', 'users': ['U01B5AQPV39', 'U01BYMTTXCH'], 'count': 2}]\",\n",
       "       \"[{'name': '+1', 'users': ['U01BYMTTXCH'], 'count': 1}]\",\n",
       "       \"[{'name': 'clap', 'users': ['U01B5AZNSB1'], 'count': 1}]\",\n",
       "       \"[{'name': 'tada', 'users': ['U01BS8YKHS8'], 'count': 1}]\",\n",
       "       \"[{'name': '+1', 'users': ['U01B5AQPV39'], 'count': 1}, {'name': 'raised_hands', 'users': ['U01B5AZNSB1'], 'count': 1}]\",\n",
       "       \"[{'name': '+1', 'users': ['U01BYMTTXCH', 'U01BDB84630'], 'count': 2}, {'name': 'sunglasses', 'users': ['U01BDB84630'], 'count': 1}, {'name': 'bug', 'users': ['U01BDB84630'], 'count': 1}]\",\n",
       "       \"[{'name': 'grinning', 'users': ['U01B5AZNSB1'], 'count': 1}]\",\n",
       "       \"[{'name': 'tada', 'users': ['U01BYMTTXCH'], 'count': 1}, {'name': 'dancer', 'users': ['U01BS8YKHS8'], 'count': 1}]\",\n",
       "       \"[{'name': '+1', 'users': ['U01B5AQPV39'], 'count': 1}]\",\n",
       "       \"[{'name': 'heart_eyes', 'users': ['U01BS8YKHS8'], 'count': 1}]\",\n",
       "       \"[{'name': 'heart', 'users': ['U01BS8YKHS8', 'U01BYMTTXCH', 'U01BDB84630'], 'count': 3}, {'name': 'robot_face', 'users': ['U01BS8YKHS8'], 'count': 1}]\",\n",
       "       \"[{'name': 'sunglasses', 'users': ['U01BYMTTXCH'], 'count': 1}, {'name': 'kissing', 'users': ['U01BYMTTXCH'], 'count': 1}, {'name': 'sweat', 'users': ['U01BYMTTXCH'], 'count': 1}, {'name': 'joy', 'users': ['U01B5AQPV39'], 'count': 1}, {'name': 'star-struck', 'users': ['U01B5AQPV39'], 'count': 1}]\",\n",
       "       \"[{'name': 'star-struck', 'users': ['U01BS8YKHS8'], 'count': 1}]\",\n",
       "       \"[{'name': '+1', 'users': ['U01BS8YKHS8', 'U01BYMTTXCH'], 'count': 2}]\",\n",
       "       \"[{'name': 'heart', 'users': ['U01BS8YKHS8', 'U01BDB84630'], 'count': 2}]\",\n",
       "       \"[{'name': 'grinning', 'users': ['U01BS8YKHS8'], 'count': 1}]\",\n",
       "       \"[{'name': '+1', 'users': ['U01BYMTTXCH', 'U01BH0Q8MHB', 'U01BL3ARGV8'], 'count': 3}]\",\n",
       "       \"[{'name': '+1', 'users': ['U01BL3ARGV8', 'U01BH0Q8MHB'], 'count': 2}]\",\n",
       "       \"[{'name': 'raised_hands', 'users': ['U01B5AZNSB1', 'U01BYMTTXCH'], 'count': 2}, {'name': '+1', 'users': ['U01BH0Q8MHB', 'U01BL3ARGV8', 'U01BS8YKHS8'], 'count': 3}]\"],\n",
       "      dtype=object)"
      ]
     },
     "execution_count": 7,
     "metadata": {},
     "output_type": "execute_result"
    }
   ],
   "source": [
    "data.reactions.unique()"
   ]
  },
  {
   "cell_type": "code",
   "execution_count": 8,
   "metadata": {},
   "outputs": [],
   "source": [
    "text = ['text'] "
   ]
  },
  {
   "cell_type": "code",
   "execution_count": 9,
   "metadata": {},
   "outputs": [],
   "source": [
    "new_data= data[text]"
   ]
  },
  {
   "cell_type": "code",
   "execution_count": 10,
   "metadata": {},
   "outputs": [
    {
     "data": {
      "text/html": [
       "<div>\n",
       "<style scoped>\n",
       "    .dataframe tbody tr th:only-of-type {\n",
       "        vertical-align: middle;\n",
       "    }\n",
       "\n",
       "    .dataframe tbody tr th {\n",
       "        vertical-align: top;\n",
       "    }\n",
       "\n",
       "    .dataframe thead th {\n",
       "        text-align: right;\n",
       "    }\n",
       "</style>\n",
       "<table border=\"1\" class=\"dataframe\">\n",
       "  <thead>\n",
       "    <tr style=\"text-align: right;\">\n",
       "      <th></th>\n",
       "      <th>text</th>\n",
       "    </tr>\n",
       "  </thead>\n",
       "  <tbody>\n",
       "    <tr>\n",
       "      <th>0</th>\n",
       "      <td>Se descargaron 257 mensajes del canal dailys</td>\n",
       "    </tr>\n",
       "    <tr>\n",
       "      <th>1</th>\n",
       "      <td>Cuidese no mas</td>\n",
       "    </tr>\n",
       "    <tr>\n",
       "      <th>2</th>\n",
       "      <td>hola buenos días ! ok :wink:</td>\n",
       "    </tr>\n",
       "    <tr>\n",
       "      <th>3</th>\n",
       "      <td>No pasa nada!</td>\n",
       "    </tr>\n",
       "    <tr>\n",
       "      <th>4</th>\n",
       "      <td>Dale Ivan! Buen día!</td>\n",
       "    </tr>\n",
       "    <tr>\n",
       "      <th>...</th>\n",
       "      <td>...</td>\n",
       "    </tr>\n",
       "    <tr>\n",
       "      <th>792</th>\n",
       "      <td>&lt;@U01BDB84630&gt; se ha unido al canal</td>\n",
       "    </tr>\n",
       "    <tr>\n",
       "      <th>793</th>\n",
       "      <td>&lt;@U01BS8YKHS8&gt; se ha unido al canal</td>\n",
       "    </tr>\n",
       "    <tr>\n",
       "      <th>794</th>\n",
       "      <td>&lt;@U01BH0Q8MHB&gt; se ha unido al canal</td>\n",
       "    </tr>\n",
       "    <tr>\n",
       "      <th>795</th>\n",
       "      <td>:wave: Hola, equipo.</td>\n",
       "    </tr>\n",
       "    <tr>\n",
       "      <th>796</th>\n",
       "      <td>&lt;@U01B5AQPV39&gt; se ha unido al canal</td>\n",
       "    </tr>\n",
       "  </tbody>\n",
       "</table>\n",
       "<p>797 rows × 1 columns</p>\n",
       "</div>"
      ],
      "text/plain": [
       "                                             text\n",
       "0    Se descargaron 257 mensajes del canal dailys\n",
       "1                                  Cuidese no mas\n",
       "2                    hola buenos días ! ok :wink:\n",
       "3                                   No pasa nada!\n",
       "4                            Dale Ivan! Buen día!\n",
       "..                                            ...\n",
       "792           <@U01BDB84630> se ha unido al canal\n",
       "793           <@U01BS8YKHS8> se ha unido al canal\n",
       "794           <@U01BH0Q8MHB> se ha unido al canal\n",
       "795                          :wave: Hola, equipo.\n",
       "796           <@U01B5AQPV39> se ha unido al canal\n",
       "\n",
       "[797 rows x 1 columns]"
      ]
     },
     "execution_count": 10,
     "metadata": {},
     "output_type": "execute_result"
    }
   ],
   "source": [
    "new_data"
   ]
  },
  {
   "cell_type": "code",
   "execution_count": 11,
   "metadata": {},
   "outputs": [
    {
     "name": "stdout",
     "output_type": "stream",
     "text": [
      ":wave: Hola, equipo\n"
     ]
    }
   ],
   "source": [
    "print(emoji.emojize(':wave: Hola, equipo'))"
   ]
  },
  {
   "cell_type": "code",
   "execution_count": null,
   "metadata": {},
   "outputs": [],
   "source": []
  }
 ],
 "metadata": {
  "kernelspec": {
   "display_name": "Python 3",
   "language": "python",
   "name": "python3"
  },
  "language_info": {
   "codemirror_mode": {
    "name": "ipython",
    "version": 3
   },
   "file_extension": ".py",
   "mimetype": "text/x-python",
   "name": "python",
   "nbconvert_exporter": "python",
   "pygments_lexer": "ipython3",
   "version": "3.6.12"
  }
 },
 "nbformat": 4,
 "nbformat_minor": 4
}
